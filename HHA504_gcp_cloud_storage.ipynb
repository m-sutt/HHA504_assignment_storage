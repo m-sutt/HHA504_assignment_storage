{
  "nbformat": 4,
  "nbformat_minor": 0,
  "metadata": {
    "colab": {
      "provenance": [],
      "authorship_tag": "ABX9TyOck3SAex3l71/kwVVI7PK1",
      "include_colab_link": true
    },
    "kernelspec": {
      "name": "python3",
      "display_name": "Python 3"
    },
    "language_info": {
      "name": "python"
    }
  },
  "cells": [
    {
      "cell_type": "markdown",
      "metadata": {
        "id": "view-in-github",
        "colab_type": "text"
      },
      "source": [
        "<a href=\"https://colab.research.google.com/github/m-sutt/HHA504_assignment_storage/blob/main/HHA504_gcp_cloud_storage.ipynb\" target=\"_parent\"><img src=\"https://colab.research.google.com/assets/colab-badge.svg\" alt=\"Open In Colab\"/></a>"
      ]
    },
    {
      "cell_type": "code",
      "execution_count": null,
      "metadata": {
        "id": "ij3kn_fSVzs-"
      },
      "outputs": [],
      "source": [
        "from google.cloud import storage\n",
        "from PIL import Image\n",
        "import io\n",
        "import os\n",
        "\n",
        "# Step 1: Set up your Google credentials\n",
        "os.environ['GOOGLE_APPLICATION_CREDENTIALS'] = 'gcp_secret.json'\n",
        "\n",
        "# Step 2: Create a Google Cloud Storage client\n",
        "client = storage.Client()\n",
        "\n",
        "# Step 3: Create a bucket or use an existing one\n",
        "bucket_name = 'mint-ahi-dummy-demo'  # Change this to your bucket name\n",
        "bucket = client.bucket(bucket_name)\n",
        "\n",
        "\n",
        "## create a list of files in /images with path\n",
        "files_upload = []\n",
        "for root, dirs, files in os.walk(\"images\"):\n",
        "    for file in files:\n",
        "        files_upload.append(os.path.join(root, file))\n",
        "\n",
        "for file in files_upload:\n",
        "    ## print working on\n",
        "    print(\"fWorking on {file}\")\n",
        "    ## load file using io into memory\n",
        "    with open(file, 'rb') as f:\n",
        "        file_byte_array = f.read()\n",
        "    print(file)\n",
        "    ## just keep file name\n",
        "    file = file.split(\"/\")[-1]\n",
        "    print('new file name: ', file)\n",
        "    ## upload file to GCS\n",
        "    try:\n",
        "        blob = bucket.blob(file)\n",
        "        blob.upload_from_string(file_byte_array, content_type='image/png')\n",
        "        print(f\"Image uploaded successfully to Google Cloud Storage!\")\n",
        "    except Exception as e:\n",
        "        print(f\"Error: {e}\")\n",
        "\n",
        "\n",
        "\n",
        "# Step 4: Create a fake image using Pillow\n",
        "image = Image.new('RGB', (100, 100), color = (73, 109, 137))\n",
        "image_byte_array = io.BytesIO()\n",
        "image.save(image_byte_array, format='PNG')\n",
        "\n",
        "# Step 5: Upload the fake image to Google Cloud Storage\n",
        "blob = bucket.blob('fake_image.png')\n",
        "blob.upload_from_string(image_byte_array.getvalue(), content_type='image/png')\n",
        "\n",
        "print(\"Image uploaded successfully to Google Cloud Storage!\")"
      ]
    }
  ]
}